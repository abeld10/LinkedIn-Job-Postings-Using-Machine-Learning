{
 "cells": [
  {
   "cell_type": "code",
   "execution_count": null,
   "metadata": {},
   "outputs": [],
   "source": [
    "input_folder = '../input'"
   ]
  },
  {
   "cell_type": "code",
   "execution_count": null,
   "metadata": {},
   "outputs": [],
   "source": [
    "### @author selfadri\n",
    "### Load the datasets into pandas dataframes from csv\n",
    "import numpy as np\n",
    "import pandas as pd\n",
    "from pprint import pprint\n",
    "\n",
    "# Input data files are available in the read-only \"../input/\" directory\n",
    "# For example, running this (by clicking run or pressing Shift+Enter) will list all files under the input directory\n",
    "\n",
    "import os\n",
    "datasets = {}\n",
    "for dirname, _, filenames in os.walk(input_folder):\n",
    "    for filename in filenames:\n",
    "        print(os.path.join(dirname, filename))\n",
    "        datasets['_'.join((dirname.split('postings')[-1].replace('/',''),filename.split('.')[-2])).lstrip('_')] = pd.read_csv(os.path.join(dirname, filename))\n",
    "\n",
    "pprint([*datasets.keys()])"
   ]
  },
  {
   "cell_type": "code",
   "execution_count": null,
   "metadata": {},
   "outputs": [],
   "source": [
    "### @author selfadri\n",
    "\n",
    "# Calculate labels, which indicate salary, from any available min-med-max values\n",
    "untrimmed_y = np.mean(datasets['job_postings'].iloc[:,4:7], axis=1)\n",
    "\n",
    "# Clean dataset to remove unwanted samples\n",
    "cond = untrimmed_y.notna() & (X['pay_period'] != \"ONCE\")\n",
    "y = untrimmed_y[cond]\n",
    "X = datasets['job_postings'][cond]\n",
    "\n",
    "# Adjust for the `pay_period`\n",
    "assert np.all(np.unique(X.iloc[:,7]) == ['HOURLY', 'MONTHLY', 'WEEKLY', 'YEARLY'])\n",
    "y[X['pay_period'] == \"YEARLY\"] *= 1\n",
    "y[X['pay_period'] == \"MONTHLY\"] *= 12\n",
    "y[X['pay_period'] == \"WEEKLY\"] *= 50\n",
    "y[X['pay_period'] == \"HOURLY\"] *= 40 * 50\n",
    "\n",
    "y"
   ]
  },
  {
   "cell_type": "code",
   "execution_count": null,
   "metadata": {},
   "outputs": [],
   "source": [
    "### Some samples do not have the salary data needed for our labels.\n",
    "print(f'{(untrimmed_y.size - y.size) / untrimmed_y.size * 100 :.2f} % of samples are lost due to not having salary :)')\n",
    "print(f'{y.size} samples remain.')\n",
    "print('Unfortunately, this is normal for LinkedIn.')\n",
    "print('Maybe we could make a binary classifier for whether or not the employer would post the salary :)')"
   ]
  },
  {
   "cell_type": "code",
   "execution_count": null,
   "metadata": {},
   "outputs": [],
   "source": [
    "### @author selfadri\n",
    "\n",
    "# Not here, nothing new to learn from this csv\n",
    "datasets['job_details_salaries'][datasets['job_details_salaries']['job_id'] == datasets['job_postings'].iloc[2]['job_id']]\n",
    "\n",
    "# Here's the benefit types recorded\n",
    "pprint([*np.unique(np.asarray(datasets['job_details_benefits']['type'], str))])"
   ]
  },
  {
   "cell_type": "markdown",
   "metadata": {},
   "source": []
  },
  {
   "cell_type": "markdown",
   "metadata": {},
   "source": [
    "### Features\n",
    "We will consider 10 features for now.\n",
    "- Experience Level\n",
    "- Job Title (Later, embed this)\n",
    "- Work Type (full time, part time, intern, etc.)\n",
    "- Location\n",
    "- Skills\n",
    "- Job Industry\n",
    "- Company Industry\n",
    "- Company Employee Count\n",
    "- Benefits\n",
    "- Company LinkedIn Follower Count\n",
    "- Remote Work Allowed"
   ]
  },
  {
   "cell_type": "code",
   "execution_count": null,
   "metadata": {},
   "outputs": [],
   "source": []
  }
 ],
 "metadata": {
  "language_info": {
   "name": "python"
  }
 },
 "nbformat": 4,
 "nbformat_minor": 2
}
