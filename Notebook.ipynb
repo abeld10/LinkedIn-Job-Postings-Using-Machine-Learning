{
 "cells": [
  {
   "cell_type": "code",
   "execution_count": null,
   "metadata": {},
   "outputs": [],
   "source": [
    "input_folder = '../input'"
   ]
  },
  {
   "cell_type": "code",
   "execution_count": null,
   "metadata": {},
   "outputs": [],
   "source": [
    "### Imports\n",
    "\n",
    "import numpy as np\n",
    "import pandas as pd\n",
    "from pprint import pprint\n",
    "from sklearn.preprocessing import OneHotEncoder"
   ]
  },
  {
   "cell_type": "code",
   "execution_count": null,
   "metadata": {},
   "outputs": [],
   "source": [
    "### @author selfadri\n",
    "### Load the datasets into pandas dataframes from csv\n",
    "\n",
    "# Input data files are available in the read-only \"../input/\" directory\n",
    "# For example, running this (by clicking run or pressing Shift+Enter) will list all files under the input directory\n",
    "\n",
    "import os\n",
    "datasets = {}\n",
    "for dirname, _, filenames in os.walk(input_folder):\n",
    "    for filename in filenames:\n",
    "        print(os.path.join(dirname, filename))\n",
    "        datasets['_'.join((dirname.split('postings')[-1].replace('/',''),filename.split('.')[-2])).lstrip('_')] = pd.read_csv(os.path.join(dirname, filename))\n",
    "\n",
    "pprint([*datasets.keys()])"
   ]
  },
  {
   "cell_type": "code",
   "execution_count": null,
   "metadata": {},
   "outputs": [],
   "source": [
    "### @author selfadri\n",
    "\n",
    "# Calculate labels, which indicate salary, from any available min-med-max values\n",
    "untrimmed_y = np.mean(datasets['job_postings'].iloc[:,4:7], axis=1)\n",
    "\n",
    "# Clean dataset to remove unwanted samples\n",
    "cond = untrimmed_y.notna() & (X['pay_period'] != \"ONCE\")\n",
    "y = untrimmed_y[cond]\n",
    "X = datasets['job_postings'][cond]\n",
    "\n",
    "# Adjust for the `pay_period`\n",
    "assert np.all(np.unique(X.iloc[:,7]) == ['HOURLY', 'MONTHLY', 'WEEKLY', 'YEARLY'])\n",
    "y[X['pay_period'] == \"YEARLY\"] *= 1\n",
    "y[X['pay_period'] == \"MONTHLY\"] *= 12\n",
    "y[X['pay_period'] == \"WEEKLY\"] *= 50\n",
    "y[X['pay_period'] == \"HOURLY\"] *= 40 * 50\n",
    "\n",
    "y"
   ]
  },
  {
   "cell_type": "code",
   "execution_count": null,
   "metadata": {},
   "outputs": [],
   "source": [
    "### Some samples do not have the salary data needed for our labels.\n",
    "print(f'{(untrimmed_y.size - y.size) / untrimmed_y.size * 100 :.2f} % of samples are lost due to not having salary :)')\n",
    "print(f'{y.size} samples remain.')\n",
    "print('Unfortunately, this is normal for LinkedIn.')\n",
    "print('Maybe we could make a binary classifier for whether or not the employer would post the salary :)')"
   ]
  },
  {
   "cell_type": "code",
   "execution_count": null,
   "metadata": {},
   "outputs": [],
   "source": [
    "### @author selfadri\n",
    "\n",
    "# Just USD\n",
    "print(np.unique(datasets['job_details_salaries']['currency']))\n",
    "\n",
    "# Not here, nothing new to learn from the job_details_salaries csv\n",
    "print(datasets['job_details_salaries'][datasets['job_details_salaries']['job_id'] == datasets['job_postings'].iloc[2]['job_id']])\n",
    "\n",
    "# Here's the benefit types recorded\n",
    "pprint([*np.unique(np.asarray(datasets['job_details_benefits']['type'], str))])\n",
    "\n",
    "# Here's the work types\n",
    "pprint([*np.unique(X['work_type'])])\n",
    "\n",
    "# Here's the titles\n",
    "print(pd.DataFrame(np.unique(X['title'])))\n",
    "pprint(str(Counter(X['title']))[:1000])\n",
    "\n",
    "# Here's the locations\n",
    "pprint(str(Counter(X['location']))[:1000])\n",
    "\n",
    "# Only a few job postings have skill description paragraphs\n",
    "print(y.size - Counter(np.array(X['skills_desc'] ,str))['nan'])\n",
    "\n",
    "# There are a handful of job types, plenty of each category\n",
    "print(Counter(datasets['job_details_job_skills'].iloc[:,1]))"
   ]
  },
  {
   "cell_type": "markdown",
   "metadata": {},
   "source": [
    "### @author selfadri\n",
    "\n"
   ]
  },
  {
   "cell_type": "markdown",
   "metadata": {},
   "source": [
    "### Features\n",
    "We will consider 10 features for now.\n",
    "- Experience Level\n",
    "- Job Title (Later, embed this)\n",
    "- Work Type (full time, part time, intern, etc.)\n",
    "- Location\n",
    "- Skills\n",
    "- Job Industry\n",
    "- Company Industry\n",
    "- Company Employee Count\n",
    "- Benefits\n",
    "- Company LinkedIn Follower Count\n",
    "- Remote Work Allowed\n",
    "\n",
    "### Scope\n",
    "The location is always in the United States, and the currency is always measured in USD.\n",
    "\n",
    "### Labels (Salary)\n",
    "We extracted our labels"
   ]
  },
  {
   "cell_type": "code",
   "execution_count": null,
   "metadata": {},
   "outputs": [],
   "source": []
  }
 ],
 "metadata": {
  "language_info": {
   "name": "python"
  }
 },
 "nbformat": 4,
 "nbformat_minor": 2
}
